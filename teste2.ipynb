{
 "cells": [
  {
   "cell_type": "code",
   "execution_count": 2,
   "metadata": {},
   "outputs": [
    {
     "name": "stdout",
     "output_type": "stream",
     "text": [
      "Vamos fazer a soma de dois valores que será inserido por você\n"
     ]
    }
   ],
   "source": [
    "print('Vamos fazer a soma de dois valores que será inserido por você')\n",
    "num1 = float(input('Insira o primeiro valor:'))\n",
    "num2 = float(input('Insira o segundo valor:'))\n",
    "soma = num1 + num2\n",
    "print('calculando....')\n",
    "print(f'A soma é: {soma}')\n"
   ]
  },
  {
   "cell_type": "code",
   "execution_count": 1,
   "metadata": {},
   "outputs": [
    {
     "name": "stderr",
     "output_type": "stream",
     "text": [
      "C:\\Users\\geovannadiniz-ieg\\AppData\\Local\\Temp\\ipykernel_45472\\1756678812.py:1: DeprecationWarning: \n",
      "Pyarrow will become a required dependency of pandas in the next major release of pandas (pandas 3.0),\n",
      "(to allow more performant data types, such as the Arrow string type, and better interoperability with other libraries)\n",
      "but was not found to be installed on your system.\n",
      "If this would cause problems for you,\n",
      "please provide us feedback at https://github.com/pandas-dev/pandas/issues/54466\n",
      "        \n",
      "  import pandas as pd\n"
     ]
    }
   ],
   "source": [
    "import pandas as pd\n",
    " \n",
    "df = pd.DataFrame({'Nome':['Nisfla', 'Santi', 'Modolo', 'Grilo','Daniel', 'Myrna'],\n",
    "              'Aulas': [6,2,2,2,5,0],\n",
    "              'Nivel_Educacional':['Mestre', 'Mestre', 'Mestre','Doutorando',\n",
    "              'Mestre', 'Mestre'], 'Tempo_Refeicao':[10.5\n",
    "              ,15.7,12.6, 11.7, 20.5, 15]})\n",
    " \n",
    "df = pd.DataFrame({'Nome':['Nisfla', 'Santi', 'Modolo', 'Grilo','Daniel', 'Myrna'],\n",
    "              'Aulas': [6,2,2,2,5,0],\n",
    "              'Nivel_Educacional':['Mestre', 'Mestre', 'Mestre','Doutorando',\n",
    "              'Mestre', 'Mestre'], 'Tempo_Refeicao':[10.5\n",
    "              ,15.7,12.6, 11.7, 20.5, 15]})"
   ]
  },
  {
   "cell_type": "markdown",
   "metadata": {},
   "source": []
  }
 ],
 "metadata": {
  "kernelspec": {
   "display_name": "Python 3",
   "language": "python",
   "name": "python3"
  },
  "language_info": {
   "codemirror_mode": {
    "name": "ipython",
    "version": 3
   },
   "file_extension": ".py",
   "mimetype": "text/x-python",
   "name": "python",
   "nbconvert_exporter": "python",
   "pygments_lexer": "ipython3",
   "version": "3.12.2"
  }
 },
 "nbformat": 4,
 "nbformat_minor": 2
}
